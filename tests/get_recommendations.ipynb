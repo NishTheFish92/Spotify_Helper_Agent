{
 "cells": [
  {
   "cell_type": "code",
   "execution_count": null,
   "id": "363f558c",
   "metadata": {},
   "outputs": [],
   "source": [
    "import os\n",
    "from dotenv import load_dotenv\n",
    "import requests\n",
    "\n",
    "load_dotenv()\n",
    "recommendation_desc = \"\"\"Gets song recommendations based on user mood or activity.\n",
    "Input: \n",
    "- tag: a single word describing the user's mood or activity (e.g., \"chill\", \"workout\", \"study\")\n",
    "- limit: number of songs to recommend (integer)\n",
    "Always condense the user's request to a single tag and a number before calling this tool.\n",
    "\"\"\"\n",
    "\n",
    "def get_recommendations(tag: str, limit: int = 10):\n",
    "    \"\"\"\n",
    "    Fetches top tracks for a given mood tag from Last.fm.\n",
    "\n",
    "    Args:\n",
    "        tag (str): The mood or genre tag to search for.\n",
    "        limit (int): Number of tracks to return.\n",
    "\n",
    "    Returns:\n",
    "        str: Formatted string with track and artist names.\n",
    "    \"\"\"\n",
    "    API_KEY = os.getenv(\"lastfm_api_key\")\n",
    "    url = 'http://ws.audioscrobbler.com/2.0/'\n",
    "    params = {\n",
    "        'method': 'tag.getTopTracks',\n",
    "        'tag': tag,\n",
    "        'api_key': API_KEY,\n",
    "        'format': 'json',\n",
    "        'limit': limit\n",
    "    }\n",
    "\n",
    "    response = requests.get(url, params=params)\n",
    "    status = response.status_code  # Get the status code\n",
    "    if status != 200:\n",
    "        return f\"Failed to fetch recommendations. Status code: {status}. Response: {response.text}\"\n",
    "\n",
    "    data = response.json()\n",
    "\n",
    "    recommendations = []\n",
    "    for track in data.get('tracks', {}).get('track', []):\n",
    "        track_name = track['name']\n",
    "        artist_name = track['artist']['name']\n",
    "        recommendations.append(f\"{track_name} - {artist_name}\")\n",
    "    if recommendations:\n",
    "        return \"\\n\".join(recommendations)\n",
    "    else:\n",
    "        return f\"No recommendations found for this tag. (Status code: {status})\""
   ]
  },
  {
   "cell_type": "code",
   "execution_count": 7,
   "id": "f4e44f98",
   "metadata": {},
   "outputs": [
    {
     "data": {
      "text/plain": [
       "str"
      ]
     },
     "execution_count": 7,
     "metadata": {},
     "output_type": "execute_result"
    }
   ],
   "source": [
    "type(get_recommendations(\"chill\",10))"
   ]
  }
 ],
 "metadata": {
  "kernelspec": {
   "display_name": "Spotify_Helper_Agent (3.11.13)",
   "language": "python",
   "name": "python3"
  },
  "language_info": {
   "codemirror_mode": {
    "name": "ipython",
    "version": 3
   },
   "file_extension": ".py",
   "mimetype": "text/x-python",
   "name": "python",
   "nbconvert_exporter": "python",
   "pygments_lexer": "ipython3",
   "version": "3.11.13"
  }
 },
 "nbformat": 4,
 "nbformat_minor": 5
}
