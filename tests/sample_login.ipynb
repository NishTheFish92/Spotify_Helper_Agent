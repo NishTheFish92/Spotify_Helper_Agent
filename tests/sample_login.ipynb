{
 "cells": [
  {
   "cell_type": "code",
   "execution_count": null,
   "id": "0001b5b9",
   "metadata": {},
   "outputs": [],
   "source": [
    "import webbrowser\n",
    "import urllib.parse\n",
    "from dotenv import load_dotenv\n",
    "from http.server import BaseHTTPRequestHandler, HTTPServer\n",
    "import os\n",
    "import requests\n",
    "import base64\n",
    "import json"
   ]
  },
  {
   "cell_type": "code",
   "execution_count": null,
   "id": "d17ba3aa",
   "metadata": {},
   "outputs": [],
   "source": [
    "load_dotenv()\n",
    "client_id = os.getenv(\"client_id\")\n",
    "redirect_uri = \"http://127.0.0.1:8888/callback/\"\n",
    "scopes = \"playlist-modify-private playlist-modify-public\"\n"
   ]
  },
  {
   "cell_type": "code",
   "execution_count": null,
   "id": "e084ac90",
   "metadata": {},
   "outputs": [],
   "source": [
    "auth_url = \"https://accounts.spotify.com/authorize?\" + urllib.parse.urlencode({\n",
    "    \"client_id\": client_id,\n",
    "    \"response_type\": \"code\",\n",
    "    \"redirect_uri\": redirect_uri,\n",
    "    \"scope\": scopes\n",
    "})\n",
    "auth_code = None\n",
    "class CallbackHandler(BaseHTTPRequestHandler):\n",
    "    def do_GET(self):\n",
    "        global auth_code\n",
    "        query = urllib.parse.urlparse(self.path).query\n",
    "        params = urllib.parse.parse_qs(query)\n",
    "        if \"code\" in params:\n",
    "            auth_code = params[\"code\"][0]\n",
    "            print(\"Authorization code:\", auth_code)\n",
    "            self.send_response(200)\n",
    "            self.end_headers()\n",
    "            self.wfile.write(b\"You can close this window now.\")\n",
    "            # save the code somewhere or trigger token exchange\n",
    "        else:\n",
    "            self.send_response(400)\n",
    "            self.end_headers()\n",
    "\n",
    "server = HTTPServer((\"127.0.0.1\", 8888), CallbackHandler)\n",
    "print(\"Waiting for Spotify redirect...\")\n",
    "webbrowser.open(auth_url)\n",
    "print(\"Go to the URL above and log in.\")\n",
    "server.handle_request()\n",
    "server.server_close()"
   ]
  },
  {
   "cell_type": "code",
   "execution_count": null,
   "id": "40c38d04",
   "metadata": {},
   "outputs": [],
   "source": [
    "print(auth_code)"
   ]
  },
  {
   "cell_type": "code",
   "execution_count": null,
   "id": "6bed5b15",
   "metadata": {},
   "outputs": [],
   "source": [
    "client_secret = os.getenv(\"client_secret\")"
   ]
  },
  {
   "cell_type": "code",
   "execution_count": null,
   "id": "e581c0fd",
   "metadata": {},
   "outputs": [],
   "source": [
    "def get_tokens(auth_code):\n",
    "    url = \"https://accounts.spotify.com/api/token\"\n",
    "    headers = {\n",
    "        \"Authorization\": \"Basic \" + base64.b64encode(\n",
    "            f\"{client_id}:{client_secret}\".encode()\n",
    "        ).decode()\n",
    "    }\n",
    "    data = {\n",
    "        \"grant_type\": \"authorization_code\",\n",
    "        \"code\": auth_code,\n",
    "        \"redirect_uri\": redirect_uri,\n",
    "    }\n",
    "\n",
    "    r = requests.post(url, headers=headers, data=data)\n",
    "    r.raise_for_status()\n",
    "    return r.json()"
   ]
  },
  {
   "cell_type": "code",
   "execution_count": null,
   "id": "0eb58494",
   "metadata": {},
   "outputs": [],
   "source": [
    "r = get_tokens(auth_code)"
   ]
  },
  {
   "cell_type": "code",
   "execution_count": null,
   "id": "4542e484",
   "metadata": {},
   "outputs": [],
   "source": [
    "print(r)"
   ]
  },
  {
   "cell_type": "code",
   "execution_count": null,
   "id": "4d782407",
   "metadata": {},
   "outputs": [],
   "source": [
    "def refresh_access_token(refresh_token):\n",
    "    url = \"https://accounts.spotify.com/api/token\"\n",
    "    auth_header = base64.b64encode(f\"{client_id}:{client_secret}\".encode()).decode()\n",
    "    headers = {\"Authorization\": f\"Basic {auth_header}\"}\n",
    "    data = {\n",
    "        \"grant_type\": \"refresh_token\",\n",
    "        \"refresh_token\": refresh_token\n",
    "    }\n",
    "\n",
    "    r = requests.post(url, headers=headers, data=data)\n",
    "    r.raise_for_status()\n",
    "    return r.json()"
   ]
  },
  {
   "cell_type": "code",
   "execution_count": null,
   "id": "78e01cf8",
   "metadata": {},
   "outputs": [],
   "source": [
    "refresh_token = os.getenv(\"refresh_token\")\n",
    "tokens = refresh_access_token(refresh_token)\n",
    "print(tokens)"
   ]
  },
  {
   "cell_type": "code",
   "execution_count": null,
   "id": "2cae50d1",
   "metadata": {},
   "outputs": [],
   "source": [
    "access_token = refresh_access_token(refresh_token)['access_token']"
   ]
  },
  {
   "cell_type": "code",
   "execution_count": null,
   "id": "e2b3e1d5",
   "metadata": {},
   "outputs": [],
   "source": [
    "headers = {\n",
    "    \"Authorization\": f\"Bearer {access_token}\",\n",
    "    \"Content-Type\": \"application/json\"\n",
    "}\n",
    "r = requests.get(\"https://api.spotify.com/v1/me\", headers=headers)\n",
    "r.raise_for_status()\n",
    "user_id = r.json()[\"id\"]"
   ]
  },
  {
   "cell_type": "code",
   "execution_count": null,
   "id": "d14414bf",
   "metadata": {},
   "outputs": [],
   "source": [
    "r"
   ]
  },
  {
   "cell_type": "code",
   "execution_count": null,
   "id": "1caf2517",
   "metadata": {},
   "outputs": [],
   "source": [
    "playlist_data = {\n",
    "    \"name\": \"My API Playlist\",\n",
    "    \"description\": \"Created via Python CLI\",\n",
    "    \"public\": False\n",
    "}\n",
    "\n",
    "r = requests.post(f\"https://api.spotify.com/v1/users/{user_id}/playlists\",\n",
    "                  headers=headers, data=json.dumps(playlist_data))\n",
    "r.raise_for_status()\n",
    "playlist = r.json()"
   ]
  }
 ],
 "metadata": {
  "kernelspec": {
   "display_name": "Spotify_Helper_Agent (3.11.13)",
   "language": "python",
   "name": "python3"
  },
  "language_info": {
   "codemirror_mode": {
    "name": "ipython",
    "version": 3
   },
   "file_extension": ".py",
   "mimetype": "text/x-python",
   "name": "python",
   "nbconvert_exporter": "python",
   "pygments_lexer": "ipython3",
   "version": "3.11.13"
  }
 },
 "nbformat": 4,
 "nbformat_minor": 5
}
