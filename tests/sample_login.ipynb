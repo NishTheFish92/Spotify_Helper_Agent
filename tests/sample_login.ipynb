{
 "cells": [
  {
   "cell_type": "code",
   "execution_count": 15,
   "id": "0001b5b9",
   "metadata": {},
   "outputs": [],
   "source": [
    "import webbrowser\n",
    "import urllib.parse\n",
    "from dotenv import load_dotenv\n",
    "from http.server import BaseHTTPRequestHandler, HTTPServer\n",
    "import os\n",
    "import requests\n",
    "import base64\n",
    "import json"
   ]
  },
  {
   "cell_type": "code",
   "execution_count": 2,
   "id": "d17ba3aa",
   "metadata": {},
   "outputs": [],
   "source": [
    "load_dotenv()\n",
    "client_id = os.getenv(\"client_id\")\n",
    "redirect_uri = \"http://127.0.0.1:8888/callback/\"\n",
    "scopes = \"playlist-modify-private playlist-modify-public\"\n"
   ]
  },
  {
   "cell_type": "code",
   "execution_count": 3,
   "id": "e084ac90",
   "metadata": {},
   "outputs": [
    {
     "name": "stdout",
     "output_type": "stream",
     "text": [
      "Waiting for Spotify redirect...\n",
      "Go to the URL above and log in.\n",
      "Opening in existing browser session.\n",
      "Authorization code: AQAKneBk7tqFeZArVXIkGfvZzLQeTPmkoyo1ZgPBc1TSymX95_UwhBCpKhlPDsIC2N-5_OO7Kf1r55hmIj65fFQhAJF62OyXuGOHeqXFO-n2oRkeAsgs-uvbu5TtzRwTxc_2IflL3rPj6K5VeUzb4_wD5sbnd5D5bu3gAIqVORPqWPnjpIoBYZ8Hs-rDE3CogI-Cf1ekta8LNbORUI1eNdnzSmn5PZZBOyni27h8-LRcq2BL\n"
     ]
    },
    {
     "name": "stderr",
     "output_type": "stream",
     "text": [
      "127.0.0.1 - - [03/Sep/2025 14:43:45] \"GET /callback/?code=AQAKneBk7tqFeZArVXIkGfvZzLQeTPmkoyo1ZgPBc1TSymX95_UwhBCpKhlPDsIC2N-5_OO7Kf1r55hmIj65fFQhAJF62OyXuGOHeqXFO-n2oRkeAsgs-uvbu5TtzRwTxc_2IflL3rPj6K5VeUzb4_wD5sbnd5D5bu3gAIqVORPqWPnjpIoBYZ8Hs-rDE3CogI-Cf1ekta8LNbORUI1eNdnzSmn5PZZBOyni27h8-LRcq2BL HTTP/1.1\" 200 -\n"
     ]
    }
   ],
   "source": [
    "auth_url = \"https://accounts.spotify.com/authorize?\" + urllib.parse.urlencode({\n",
    "    \"client_id\": client_id,\n",
    "    \"response_type\": \"code\",\n",
    "    \"redirect_uri\": redirect_uri,\n",
    "    \"scope\": scopes\n",
    "})\n",
    "auth_code = None\n",
    "class CallbackHandler(BaseHTTPRequestHandler):\n",
    "    def do_GET(self):\n",
    "        global auth_code\n",
    "        query = urllib.parse.urlparse(self.path).query\n",
    "        params = urllib.parse.parse_qs(query)\n",
    "        if \"code\" in params:\n",
    "            auth_code = params[\"code\"][0]\n",
    "            print(\"Authorization code:\", auth_code)\n",
    "            self.send_response(200)\n",
    "            self.end_headers()\n",
    "            self.wfile.write(b\"You can close this window now.\")\n",
    "            # save the code somewhere or trigger token exchange\n",
    "        else:\n",
    "            self.send_response(400)\n",
    "            self.end_headers()\n",
    "\n",
    "server = HTTPServer((\"127.0.0.1\", 8888), CallbackHandler)\n",
    "print(\"Waiting for Spotify redirect...\")\n",
    "webbrowser.open(auth_url)\n",
    "print(\"Go to the URL above and log in.\")\n",
    "server.handle_request()\n",
    "server.server_close()"
   ]
  },
  {
   "cell_type": "code",
   "execution_count": 10,
   "id": "40c38d04",
   "metadata": {},
   "outputs": [
    {
     "name": "stdout",
     "output_type": "stream",
     "text": [
      "AQBN1uOndWASkxJilPcmaktZAs78HrPJwQrAHaXunPMvqeqhKteL_I1SwEG8Y5RUiZ1YtKEukiQSn6bPW7jZbUZM7mlhek4aQcVwy4IVkV9XAiGsSDCCGvijVfEus2nWrTk7pum3BmFm9nDja0AjuQ7vcrLn09wgt5M1Lep4W2YvTgkB3HDkt7r8DjqrnxuMpyKufN_nXzjfCTdiwaGTS4hd2e137JNaBiYUoehSCLuYA3Vj\n"
     ]
    }
   ],
   "source": [
    "print(auth_code)"
   ]
  },
  {
   "cell_type": "code",
   "execution_count": 4,
   "id": "6bed5b15",
   "metadata": {},
   "outputs": [],
   "source": [
    "client_secret = os.getenv(\"client_secret\")"
   ]
  },
  {
   "cell_type": "code",
   "execution_count": 5,
   "id": "e581c0fd",
   "metadata": {},
   "outputs": [],
   "source": [
    "def get_tokens(auth_code):\n",
    "    url = \"https://accounts.spotify.com/api/token\"\n",
    "    headers = {\n",
    "        \"Authorization\": \"Basic \" + base64.b64encode(\n",
    "            f\"{client_id}:{client_secret}\".encode()\n",
    "        ).decode()\n",
    "    }\n",
    "    data = {\n",
    "        \"grant_type\": \"authorization_code\",\n",
    "        \"code\": auth_code,\n",
    "        \"redirect_uri\": redirect_uri,\n",
    "    }\n",
    "\n",
    "    r = requests.post(url, headers=headers, data=data)\n",
    "    r.raise_for_status()\n",
    "    return r.json()"
   ]
  },
  {
   "cell_type": "code",
   "execution_count": 6,
   "id": "0eb58494",
   "metadata": {},
   "outputs": [],
   "source": [
    "r = get_tokens(auth_code)"
   ]
  },
  {
   "cell_type": "code",
   "execution_count": 7,
   "id": "4542e484",
   "metadata": {},
   "outputs": [
    {
     "name": "stdout",
     "output_type": "stream",
     "text": [
      "{'access_token': 'BQDIH0jRmpe_nS3ty6DjJfp3r5s9Nbv2z6HKeEHi7L9QD5LmUiECNSt3Rw4rZ7hUXdMzcD2EoRs1iEV7m7C267Edz9_6_T86CgQJY_wrx-dAe2bizoWd6Gn6LvPzx7dd3RNcR5NeMU1LRlkI9dN-VvzlJPUboEh9OtjE6b4JX8VEbNZwLcpomhVhcZXZB8o5htd-460viZ2ydBSjQFnjMu1hJn31C3DFsqWjOy_pT82vdYN4oXmeIgA5foNkd5p9stzIdYwo5JRG-mtsqNF5tcsi88-sndqEm7fIfdttTc8', 'token_type': 'Bearer', 'expires_in': 3600, 'refresh_token': 'AQB6_H04XZoHsfmN1FGd0chHc810YGWV7ULB09cFdsg1O07dlrQuNqvpG2-mfx8shaGvaEkPGf29ySYNKSRkCpEj_RNq5zzOahn_4aQX8XCor1mQWYwBrynTUkgvqQXXy04', 'scope': 'playlist-modify-private playlist-modify-public'}\n"
     ]
    }
   ],
   "source": [
    "print(r)"
   ]
  },
  {
   "cell_type": "code",
   "execution_count": 8,
   "id": "4d782407",
   "metadata": {},
   "outputs": [],
   "source": [
    "def refresh_access_token(refresh_token):\n",
    "    url = \"https://accounts.spotify.com/api/token\"\n",
    "    auth_header = base64.b64encode(f\"{client_id}:{client_secret}\".encode()).decode()\n",
    "    headers = {\"Authorization\": f\"Basic {auth_header}\"}\n",
    "    data = {\n",
    "        \"grant_type\": \"refresh_token\",\n",
    "        \"refresh_token\": refresh_token\n",
    "    }\n",
    "\n",
    "    r = requests.post(url, headers=headers, data=data)\n",
    "    r.raise_for_status()\n",
    "    return r.json()"
   ]
  },
  {
   "cell_type": "code",
   "execution_count": 11,
   "id": "78e01cf8",
   "metadata": {},
   "outputs": [
    {
     "name": "stdout",
     "output_type": "stream",
     "text": [
      "{'access_token': 'BQC7CzrtgVSnXhpfevISuPUywTJ8r2ilXwIWt4jM9NBxWm8iL4iYosjNlfL8mplUk-ooB6G1QgKaVE0GrBK7CzXFqkudYqTS-0WsW_Km6rzZCtC3AIf8e48i53f49JdwV0amUoxJlxVETbpVI2qPwzSbrIGXcOr6QlzPMc-WVRwwp9XAP8IYR1g0r_MBP0L5VGYLPcOVlPDRdFWhdsfeLqlayK_WgQPkfNRAqWPTyr54Mr7fpwg7SwbOxQvTwhySr83IF_7wXf-b22zi0mUGvaDSaeznuXldHUpxMov4BbE', 'token_type': 'Bearer', 'expires_in': 3600, 'scope': 'playlist-modify-private playlist-modify-public'}\n"
     ]
    }
   ],
   "source": [
    "refresh_token = os.getenv(\"refresh_token\")\n",
    "tokens = refresh_access_token(refresh_token)\n",
    "print(tokens)"
   ]
  },
  {
   "cell_type": "code",
   "execution_count": 12,
   "id": "2cae50d1",
   "metadata": {},
   "outputs": [],
   "source": [
    "access_token = refresh_access_token(refresh_token)['access_token']"
   ]
  },
  {
   "cell_type": "code",
   "execution_count": 13,
   "id": "e2b3e1d5",
   "metadata": {},
   "outputs": [],
   "source": [
    "headers = {\n",
    "    \"Authorization\": f\"Bearer {access_token}\",\n",
    "    \"Content-Type\": \"application/json\"\n",
    "}\n",
    "r = requests.get(\"https://api.spotify.com/v1/me\", headers=headers)\n",
    "r.raise_for_status()\n",
    "user_id = r.json()[\"id\"]"
   ]
  },
  {
   "cell_type": "code",
   "execution_count": null,
   "id": "1caf2517",
   "metadata": {},
   "outputs": [],
   "source": [
    "playlist_data = {\n",
    "    \"name\": \"My API Playlist\",\n",
    "    \"description\": \"Created via Python CLI\",\n",
    "    \"public\": False\n",
    "}\n",
    "\n",
    "r = requests.post(f\"https://api.spotify.com/v1/users/{user_id}/playlists\",\n",
    "                  headers=headers, data=json.dumps(playlist_data))\n",
    "r.raise_for_status()\n",
    "playlist = r.json()"
   ]
  },
  {
   "cell_type": "code",
   "execution_count": 17,
   "id": "dbbf5e56",
   "metadata": {},
   "outputs": [
    {
     "data": {
      "text/plain": [
       "<Response [201]>"
      ]
     },
     "execution_count": 17,
     "metadata": {},
     "output_type": "execute_result"
    }
   ],
   "source": [
    "r"
   ]
  }
 ],
 "metadata": {
  "kernelspec": {
   "display_name": "Spotify_Helper_Agent (3.11.13)",
   "language": "python",
   "name": "python3"
  },
  "language_info": {
   "codemirror_mode": {
    "name": "ipython",
    "version": 3
   },
   "file_extension": ".py",
   "mimetype": "text/x-python",
   "name": "python",
   "nbconvert_exporter": "python",
   "pygments_lexer": "ipython3",
   "version": "3.11.13"
  }
 },
 "nbformat": 4,
 "nbformat_minor": 5
}
